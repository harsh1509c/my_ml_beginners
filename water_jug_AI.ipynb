{
 "cells": [
  {
   "cell_type": "code",
   "execution_count": 11,
   "id": "1050021b",
   "metadata": {},
   "outputs": [
    {
     "name": "stdout",
     "output_type": "stream",
     "text": [
      "JUG A \t JUG B\n",
      "0\t0\n",
      "5\t0\n",
      "0\t5\n",
      "5\t5\n",
      "3\t7\n",
      "0\t3\n",
      "5\t3\n",
      "1\t7\n",
      "0\t1\n",
      "5\t1\n",
      "0\t6\n",
      "5\t6\n",
      "4\t7\n",
      "0\t4\n"
     ]
    }
   ],
   "source": [
    "def pour_water(juga, jugb):\n",
    "    max1, max2, fill = 5, 7, 4      # change maximum and final capacity acc. to yourself\n",
    "    print(\"%d\\t%d\" % (juga, jugb))\n",
    "    if jugb == fill:\n",
    "        return\n",
    "    elif jugb == max2:\n",
    "        pour_water(0,juga)\n",
    "    elif juga != 0 and jugb == 0:\n",
    "        pour_water(0,juga)\n",
    "    elif juga == fill:\n",
    "        pour_water(juga,0)\n",
    "    elif juga < max1:\n",
    "        pour_water(max1,jugb)\n",
    "    elif juga < (max2-jugb):\n",
    "        pour_water(0, (juga+jugb))\n",
    "    else:\n",
    "        pour_water(juga-(max2-jugb), (max2-jugb)+jugb)\n",
    "\n",
    "        \n",
    "print(\"JUG A \\t JUG B\")\n",
    "pour_water(0,0)"
   ]
  },
  {
   "cell_type": "code",
   "execution_count": null,
   "id": "42d7916a",
   "metadata": {},
   "outputs": [],
   "source": []
  },
  {
   "cell_type": "code",
   "execution_count": null,
   "id": "35974f3f",
   "metadata": {},
   "outputs": [],
   "source": []
  }
 ],
 "metadata": {
  "kernelspec": {
   "display_name": "Python 3",
   "language": "python",
   "name": "python3"
  },
  "language_info": {
   "codemirror_mode": {
    "name": "ipython",
    "version": 3
   },
   "file_extension": ".py",
   "mimetype": "text/x-python",
   "name": "python",
   "nbconvert_exporter": "python",
   "pygments_lexer": "ipython3",
   "version": "3.8.8"
  }
 },
 "nbformat": 4,
 "nbformat_minor": 5
}
